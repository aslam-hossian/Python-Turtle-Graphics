{
 "cells": [
  {
   "cell_type": "code",
   "execution_count": 1,
   "id": "974be71d",
   "metadata": {},
   "outputs": [],
   "source": [
    "import turtle as tur"
   ]
  },
  {
   "cell_type": "code",
   "execution_count": null,
   "id": "b0ac4f24",
   "metadata": {},
   "outputs": [],
   "source": [
    "tur.speed(2)\n",
    "tur.goto(0,150)\n",
    "tur.pendown()\n",
    "tur.bgcolor(\"green\")\n",
    "tur.color(\"#0270d6\")\n",
    "tur.begin_fill()\n",
    "tur.forward(150)\n",
    "tur.circle(-50,90)\n",
    "tur.forward(300)\n",
    "tur.circle(-50,90)\n",
    "tur.forward(300)\n",
    "tur.circle(-50,90)\n",
    "tur.forward(300)\n",
    "tur.circle(-50,90)\n",
    "tur.forward(150)\n",
    "tur.end_fill()\n",
    "\n",
    "tur.color(\"white\")\n",
    "tur.penup()\n",
    "tur.goto(140,80)\n",
    "tur.pendown()\n",
    "\n",
    "tur.begin_fill()\n",
    "tur.right(180)\n",
    "tur.forward(50)\n",
    "tur.circle(80,90)\n",
    "tur.forward(50)\n",
    "tur.right(90)\n",
    "tur.forward(80)\n",
    "tur.left(90)\n",
    "tur.forward(40)\n",
    "tur.left(90)\n",
    "tur.forward(80)\n",
    "tur.right(90)\n",
    "tur.forward(160)\n",
    "tur.left(90)\n",
    "tur.forward(55)\n",
    "tur.left(90)\n",
    "tur.forward(160)\n",
    "tur.right(90)\n",
    "tur.forward(70)\n",
    "tur.left(80)\n",
    "tur.forward(45)\n",
    "tur.left(100)\n",
    "tur.forward(80)\n",
    "tur.right(90)\n",
    "tur.forward(40)\n",
    "tur.circle(-40,90)\n",
    "tur.forward(40)\n",
    "tur.left(90)\n",
    "tur.forward(45)\n",
    "tur.end_fill()\n",
    "\n",
    "tur.penup()\n",
    "tur.color(\"white\")\n",
    "tur.goto(-80,80)\n",
    "tur.pendown()\n",
    "\n",
    "tur.hideturtle()\n",
    "tur.done()"
   ]
  },
  {
   "cell_type": "code",
   "execution_count": null,
   "id": "b6f6ab1d",
   "metadata": {},
   "outputs": [],
   "source": []
  }
 ],
 "metadata": {
  "kernelspec": {
   "display_name": "Python 3 (ipykernel)",
   "language": "python",
   "name": "python3"
  },
  "language_info": {
   "codemirror_mode": {
    "name": "ipython",
    "version": 3
   },
   "file_extension": ".py",
   "mimetype": "text/x-python",
   "name": "python",
   "nbconvert_exporter": "python",
   "pygments_lexer": "ipython3",
   "version": "3.9.12"
  }
 },
 "nbformat": 4,
 "nbformat_minor": 5
}
