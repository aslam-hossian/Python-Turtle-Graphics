{
 "cells": [
  {
   "cell_type": "code",
   "execution_count": 1,
   "id": "8c172316",
   "metadata": {},
   "outputs": [],
   "source": [
    "from turtle import *\n",
    "import colorsys"
   ]
  },
  {
   "cell_type": "code",
   "execution_count": 2,
   "id": "963c8953",
   "metadata": {},
   "outputs": [],
   "source": [
    "bgcolor (\"navy\")\n",
    "tracer (300)\n",
    "\n",
    "def Flower():\n",
    "    h = 0\n",
    "    for i in range(100):\n",
    "        c = colorsys.hsv_to_rgb(h,1,1)\n",
    "        h += 0.3\n",
    "        up()\n",
    "        goto(0,0)\n",
    "        down()\n",
    "        color(\"darkred\")\n",
    "        fillcolor(c)\n",
    "        begin_fill()\n",
    "        right(98)\n",
    "        circle(i,2)\n",
    "        forward(150)\n",
    "        forward(i)\n",
    "        left(5)\n",
    "        for j in range(129):\n",
    "            forward(i)\n",
    "            circle(j, 299,steps=2)\n",
    "        end_fill()\n",
    "        \n",
    "Flower()\n",
    "done()"
   ]
  },
  {
   "cell_type": "code",
   "execution_count": null,
   "id": "a96c8daf",
   "metadata": {},
   "outputs": [],
   "source": []
  },
  {
   "cell_type": "code",
   "execution_count": null,
   "id": "274e5c1f",
   "metadata": {},
   "outputs": [],
   "source": []
  }
 ],
 "metadata": {
  "kernelspec": {
   "display_name": "Python 3 (ipykernel)",
   "language": "python",
   "name": "python3"
  },
  "language_info": {
   "codemirror_mode": {
    "name": "ipython",
    "version": 3
   },
   "file_extension": ".py",
   "mimetype": "text/x-python",
   "name": "python",
   "nbconvert_exporter": "python",
   "pygments_lexer": "ipython3",
   "version": "3.9.12"
  }
 },
 "nbformat": 4,
 "nbformat_minor": 5
}
