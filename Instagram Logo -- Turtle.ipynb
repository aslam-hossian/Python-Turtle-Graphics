{
 "cells": [
  {
   "cell_type": "code",
   "execution_count": 1,
   "id": "9151beee",
   "metadata": {},
   "outputs": [],
   "source": [
    "import turtle as tur"
   ]
  },
  {
   "cell_type": "code",
   "execution_count": 2,
   "id": "f91df5f4",
   "metadata": {},
   "outputs": [],
   "source": [
    "tur.speed(5)\n",
    "tur.penup()\n",
    "tur.goto(150,-75)\n",
    "tur.pendown()\n",
    "tur.fillcolor()\n",
    "tur.bgcolor(\"black\")\n",
    "tur.color(\"red\")\n",
    "tur.width(23)\n",
    "tur.left(90)\n",
    "\n",
    "for i in range(4):\n",
    "    tur.forward(150)\n",
    "    tur.circle(70,90)\n",
    "    \n",
    "tur.penup()\n",
    "tur.goto(80,0)\n",
    "tur.pendown()\n",
    "tur.circle(70)\n",
    "tur.penup()\n",
    "tur.goto(90,90)\n",
    "tur.pendown()\n",
    "tur.circle(7,360)\n",
    "\n",
    "tur.done()"
   ]
  },
  {
   "cell_type": "code",
   "execution_count": null,
   "id": "cc06026c",
   "metadata": {},
   "outputs": [],
   "source": []
  },
  {
   "cell_type": "code",
   "execution_count": null,
   "id": "dba55650",
   "metadata": {},
   "outputs": [],
   "source": []
  }
 ],
 "metadata": {
  "kernelspec": {
   "display_name": "Python 3 (ipykernel)",
   "language": "python",
   "name": "python3"
  },
  "language_info": {
   "codemirror_mode": {
    "name": "ipython",
    "version": 3
   },
   "file_extension": ".py",
   "mimetype": "text/x-python",
   "name": "python",
   "nbconvert_exporter": "python",
   "pygments_lexer": "ipython3",
   "version": "3.9.12"
  }
 },
 "nbformat": 4,
 "nbformat_minor": 5
}
