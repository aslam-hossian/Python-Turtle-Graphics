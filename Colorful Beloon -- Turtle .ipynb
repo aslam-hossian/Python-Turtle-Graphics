{
 "cells": [
  {
   "cell_type": "code",
   "execution_count": 1,
   "id": "bd08f23d",
   "metadata": {},
   "outputs": [],
   "source": [
    "import turtle as tur\n",
    "import colorsys as cs"
   ]
  },
  {
   "cell_type": "code",
   "execution_count": 2,
   "id": "ad388980",
   "metadata": {},
   "outputs": [],
   "source": [
    "tur.speed(0)\n",
    "tur.width(1)\n",
    "tur.bgcolor(\"black\")\n",
    "h = 0.0\n",
    "\n",
    "for j in range(5):\n",
    "    for i in range(50):\n",
    "        tur.color(cs.hsv_to_rgb(h,1,1))\n",
    "        tur.circle(5+(i*j))\n",
    "        h += 0.01\n",
    "        \n",
    "    tur.right(90)\n",
    "\n",
    "tur.hideturtle()\n",
    "tur.done()"
   ]
  },
  {
   "cell_type": "code",
   "execution_count": null,
   "id": "a08678ce",
   "metadata": {},
   "outputs": [],
   "source": []
  },
  {
   "cell_type": "code",
   "execution_count": null,
   "id": "1035f8ca",
   "metadata": {},
   "outputs": [],
   "source": []
  }
 ],
 "metadata": {
  "kernelspec": {
   "display_name": "Python 3 (ipykernel)",
   "language": "python",
   "name": "python3"
  },
  "language_info": {
   "codemirror_mode": {
    "name": "ipython",
    "version": 3
   },
   "file_extension": ".py",
   "mimetype": "text/x-python",
   "name": "python",
   "nbconvert_exporter": "python",
   "pygments_lexer": "ipython3",
   "version": "3.9.12"
  }
 },
 "nbformat": 4,
 "nbformat_minor": 5
}
