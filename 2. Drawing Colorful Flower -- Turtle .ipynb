{
 "cells": [
  {
   "cell_type": "code",
   "execution_count": 1,
   "id": "244e0c8e",
   "metadata": {},
   "outputs": [],
   "source": [
    "import turtle as tur\n",
    "import colorsys"
   ]
  },
  {
   "cell_type": "code",
   "execution_count": 2,
   "id": "31c70773",
   "metadata": {},
   "outputs": [],
   "source": [
    "tur.setup(1000,900)\n",
    "tur.speed(0)\n",
    "tur.tracer(10)\n",
    "tur.width(2)\n",
    "tur.bgcolor(\"darkred\")\n",
    "for j in range(25):\n",
    "    for i in range (25):\n",
    "        tur.color(colorsys.hsv_to_rgb(i/15,j/25,1))\n",
    "        tur.right(90)\n",
    "        tur.circle(200-j*4,90)\n",
    "        tur.left(90)\n",
    "        tur.circle(200-j*4,90)\n",
    "        tur.right(180)\n",
    "        tur.circle(50,24)\n",
    "        \n",
    "tur.hideturtle()\n",
    "tur.done()\n",
    "\n"
   ]
  },
  {
   "cell_type": "code",
   "execution_count": null,
   "id": "b02b8ee7",
   "metadata": {},
   "outputs": [],
   "source": []
  }
 ],
 "metadata": {
  "kernelspec": {
   "display_name": "Python 3 (ipykernel)",
   "language": "python",
   "name": "python3"
  },
  "language_info": {
   "codemirror_mode": {
    "name": "ipython",
    "version": 3
   },
   "file_extension": ".py",
   "mimetype": "text/x-python",
   "name": "python",
   "nbconvert_exporter": "python",
   "pygments_lexer": "ipython3",
   "version": "3.9.12"
  }
 },
 "nbformat": 4,
 "nbformat_minor": 5
}
