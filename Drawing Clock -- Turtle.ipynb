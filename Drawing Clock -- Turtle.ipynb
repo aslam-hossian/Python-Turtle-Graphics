{
 "cells": [
  {
   "cell_type": "code",
   "execution_count": 1,
   "id": "bd2f5c14",
   "metadata": {},
   "outputs": [],
   "source": [
    "import turtle as tur"
   ]
  },
  {
   "cell_type": "code",
   "execution_count": 2,
   "id": "b09a3da0",
   "metadata": {},
   "outputs": [],
   "source": [
    "x = 150\n",
    "tur.bgcolor(\"darkred\")\n",
    "tur.speed(3)\n",
    "\n",
    "tur.penup()\n",
    "tur.goto(0,x)\n",
    "tur.seth(0)\n",
    "\n",
    "for i in range(12):\n",
    "    tur.circle(-x,29 if i >=9 else 30)\n",
    "    tur.write(i+1, font=(\"Arial\", 40, \"bold\"))\n",
    "    \n",
    "tur.goto(10,10)\n",
    "tur.pendown()\n",
    "tur.seth(140)\n",
    "tur.width(10)\n",
    "tur.forward(x-70)\n",
    "\n",
    "tur.goto(10,10)\n",
    "tur.seth(30)\n",
    "tur.width(5)\n",
    "tur.forward(x-30)\n",
    "\n",
    "tur.seth(90)\n",
    "tur.width(10)\n",
    "tur.goto(20,10)\n",
    "tur.pendown()\n",
    "tur.color(\"#d4af37\")\n",
    "tur.circle(10)\n",
    "\n",
    "tur.penup()\n",
    "tur.goto(10,x+70)\n",
    "tur.pendown()\n",
    "tur.color(\"white\")\n",
    "tur.width(25)\n",
    "tur.seth(180)\n",
    "tur.circle(x+50)\n",
    "\n",
    "tur.penup()\n",
    "tur.color(\"white\")\n",
    "tur.goto(-30,x-40)\n",
    "tur.pendown()\n",
    "tur.write(\"Turtle Clock\", font=(\"Arial\", 12, \"bold\"))\n",
    "\n",
    "tur.hideturtle()\n",
    "tur.done()"
   ]
  },
  {
   "cell_type": "code",
   "execution_count": null,
   "id": "de9012fc",
   "metadata": {},
   "outputs": [],
   "source": []
  },
  {
   "cell_type": "code",
   "execution_count": null,
   "id": "c964e764",
   "metadata": {},
   "outputs": [],
   "source": []
  }
 ],
 "metadata": {
  "kernelspec": {
   "display_name": "Python 3 (ipykernel)",
   "language": "python",
   "name": "python3"
  },
  "language_info": {
   "codemirror_mode": {
    "name": "ipython",
    "version": 3
   },
   "file_extension": ".py",
   "mimetype": "text/x-python",
   "name": "python",
   "nbconvert_exporter": "python",
   "pygments_lexer": "ipython3",
   "version": "3.9.12"
  }
 },
 "nbformat": 4,
 "nbformat_minor": 5
}
