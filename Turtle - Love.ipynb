{
 "cells": [
  {
   "cell_type": "code",
   "execution_count": 1,
   "id": "a50b22ce",
   "metadata": {},
   "outputs": [],
   "source": [
    "import math\n",
    "from turtle import *"
   ]
  },
  {
   "cell_type": "code",
   "execution_count": 2,
   "id": "c4860565",
   "metadata": {},
   "outputs": [],
   "source": [
    "def heartA(x):\n",
    "    return 15*math.sin(x)**3\n",
    "\n",
    "def heartB(x):\n",
    "    return 12*math.cos(x)-5*\\\n",
    "            math.cos(2*x)-3*\\\n",
    "            math.cos(3*x)-\\\n",
    "            math.cos(4*x)"
   ]
  },
  {
   "cell_type": "code",
   "execution_count": 8,
   "id": "b37ea088",
   "metadata": {},
   "outputs": [],
   "source": [
    "speed(1000)\n",
    "bgcolor(\"mediumspringgreen\")\n",
    "for i in range(500):\n",
    "    goto(heartA(i)*12, heartB(i)*12)\n",
    "    for i in range(1):\n",
    "        color(\"red\")\n",
    "    goto(0,0)\n",
    "done()"
   ]
  },
  {
   "cell_type": "code",
   "execution_count": null,
   "id": "925f36c8",
   "metadata": {},
   "outputs": [],
   "source": []
  }
 ],
 "metadata": {
  "kernelspec": {
   "display_name": "Python 3 (ipykernel)",
   "language": "python",
   "name": "python3"
  },
  "language_info": {
   "codemirror_mode": {
    "name": "ipython",
    "version": 3
   },
   "file_extension": ".py",
   "mimetype": "text/x-python",
   "name": "python",
   "nbconvert_exporter": "python",
   "pygments_lexer": "ipython3",
   "version": "3.9.12"
  }
 },
 "nbformat": 4,
 "nbformat_minor": 5
}
