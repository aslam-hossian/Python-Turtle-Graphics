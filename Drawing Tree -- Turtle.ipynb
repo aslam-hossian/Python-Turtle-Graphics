{
 "cells": [
  {
   "cell_type": "code",
   "execution_count": 1,
   "id": "b9949e28",
   "metadata": {},
   "outputs": [],
   "source": [
    "import turtle as t"
   ]
  },
  {
   "cell_type": "code",
   "execution_count": 4,
   "id": "7df7971d",
   "metadata": {},
   "outputs": [
    {
     "ename": "Terminator",
     "evalue": "",
     "output_type": "error",
     "traceback": [
      "\u001b[1;31m---------------------------------------------------------------------------\u001b[0m",
      "\u001b[1;31mTerminator\u001b[0m                                Traceback (most recent call last)",
      "Input \u001b[1;32mIn [4]\u001b[0m, in \u001b[0;36m<cell line: 74>\u001b[1;34m()\u001b[0m\n\u001b[0;32m     71\u001b[0m     t\u001b[38;5;241m.\u001b[39mforward(\u001b[38;5;241m30\u001b[39m)\n\u001b[0;32m     72\u001b[0m     t\u001b[38;5;241m.\u001b[39mend_fill()\n\u001b[1;32m---> 74\u001b[0m \u001b[43mbranches\u001b[49m\u001b[43m(\u001b[49m\u001b[43m)\u001b[49m\n\u001b[0;32m     75\u001b[0m pot()\n\u001b[0;32m     76\u001b[0m t\u001b[38;5;241m.\u001b[39mdone()\n",
      "Input \u001b[1;32mIn [4]\u001b[0m, in \u001b[0;36mbranches\u001b[1;34m()\u001b[0m\n\u001b[0;32m     50\u001b[0m     t\u001b[38;5;241m.\u001b[39mcircle(\u001b[38;5;241m500\u001b[39m,\u001b[38;5;241m4\u001b[39m)\n\u001b[0;32m     51\u001b[0m     t\u001b[38;5;241m.\u001b[39mright(angle)\n\u001b[1;32m---> 52\u001b[0m     \u001b[43mleaf\u001b[49m\u001b[43m(\u001b[49m\u001b[38;5;241;43m80\u001b[39;49m\u001b[38;5;241;43m+\u001b[39;49m\u001b[43m(\u001b[49m\u001b[43m(\u001b[49m\u001b[43mn\u001b[49m\u001b[38;5;241;43m-\u001b[39;49m\u001b[43mi\u001b[49m\u001b[43m)\u001b[49m\u001b[38;5;241;43m*\u001b[39;49m\u001b[38;5;241;43m2\u001b[39;49m\u001b[43m)\u001b[49m\u001b[43m)\u001b[49m\n\u001b[0;32m     53\u001b[0m     t\u001b[38;5;241m.\u001b[39mleft(angle)\n\u001b[0;32m     54\u001b[0m leaf(\u001b[38;5;241m80\u001b[39m)\n",
      "Input \u001b[1;32mIn [4]\u001b[0m, in \u001b[0;36mleaf\u001b[1;34m(x)\u001b[0m\n\u001b[0;32m     31\u001b[0m t\u001b[38;5;241m.\u001b[39mforward(x\u001b[38;5;241m/\u001b[39m(\u001b[38;5;241m7\u001b[39m\u001b[38;5;241m-\u001b[39mi))\n\u001b[0;32m     32\u001b[0m t\u001b[38;5;241m.\u001b[39mbackward(x\u001b[38;5;241m/\u001b[39m(\u001b[38;5;241m7\u001b[39m\u001b[38;5;241m-\u001b[39mi))\n\u001b[1;32m---> 33\u001b[0m \u001b[43mt\u001b[49m\u001b[38;5;241;43m.\u001b[39;49m\u001b[43mright\u001b[49m\u001b[43m(\u001b[49m\u001b[38;5;241;43m60\u001b[39;49m\u001b[43m)\u001b[49m\n\u001b[0;32m     34\u001b[0m t\u001b[38;5;241m.\u001b[39mforward(x\u001b[38;5;241m/\u001b[39m(\u001b[38;5;241m7\u001b[39m\u001b[38;5;241m-\u001b[39mi))\n\u001b[0;32m     35\u001b[0m t\u001b[38;5;241m.\u001b[39mbackward(x\u001b[38;5;241m/\u001b[39m(\u001b[38;5;241m7\u001b[39m\u001b[38;5;241m-\u001b[39mi))\n",
      "File \u001b[1;32m<string>:5\u001b[0m, in \u001b[0;36mright\u001b[1;34m(angle)\u001b[0m\n",
      "\u001b[1;31mTerminator\u001b[0m: "
     ]
    }
   ],
   "source": [
    "t.speed(\"fastest\")\n",
    "t.color(\"#4d1919\")\n",
    "t.width(5)\n",
    "\n",
    "def go_to_pos(x,y):\n",
    "    t.penup()\n",
    "    t.goto(x,y)\n",
    "    t.pendown()\n",
    "    \n",
    "def leaf(x):\n",
    "    t.width(1)\n",
    "    t.forward(20)\n",
    "    t.right(60)\n",
    "    t.begin_fill()\n",
    "    t.fillcolor(\"green\")\n",
    "    t.circle(x/2,90)\n",
    "    t.forward(x/2)\n",
    "    t.left(127)\n",
    "    t.forward(x/2)\n",
    "    t.circle(x/2,90)\n",
    "    t.end_fill()\n",
    "    t.left(115)\n",
    "    t.width(0.1)\n",
    "    t.forward(x)\n",
    "    t.color(\"#bfff00\")\n",
    "    \n",
    "    for i in range(4):\n",
    "        t.backward(x/4)\n",
    "        t.width(2/(4-i))\n",
    "        t.left(30)\n",
    "        t.forward(x/(7-i))\n",
    "        t.backward(x/(7-i))\n",
    "        t.right(60)\n",
    "        t.forward(x/(7-i))\n",
    "        t.backward(x/(7-i))\n",
    "        t.left(30)\n",
    "        \n",
    "    t.width(5)\n",
    "    t.color(\"#4d1919\")\n",
    "    t.backward(20)\n",
    "    \n",
    "def branches():\n",
    "    for b in range(3):\n",
    "        t.seth(30*(b+1))\n",
    "        go_to_pos(0,-250)\n",
    "        n = 12\n",
    "        \n",
    "        for i in range(n):\n",
    "            angle = 45 if i%2 else -45\n",
    "            t.circle(500,4)\n",
    "            t.right(angle)\n",
    "            leaf(80+((n-i)*2))\n",
    "            t.left(angle)\n",
    "        leaf(80)\n",
    "        \n",
    "def pot():\n",
    "    go_to_pos(2,-250)\n",
    "    t.seth(-90)\n",
    "    t.width(10)\n",
    "    t.begin_fill()\n",
    "    t.forward(30)\n",
    "    t.seth(0)\n",
    "    t.forward(30)\n",
    "    t.seth(-100)\n",
    "    t.forward(40)\n",
    "    t.seth(180)\n",
    "    t.forward(50)\n",
    "    t.seth(100)\n",
    "    t.forward(40)\n",
    "    t.seth(0)\n",
    "    t.forward(30)\n",
    "    t.end_fill()\n",
    "    \n",
    "branches()\n",
    "pot()\n",
    "t.done()"
   ]
  },
  {
   "cell_type": "code",
   "execution_count": null,
   "id": "92c030aa",
   "metadata": {},
   "outputs": [],
   "source": []
  }
 ],
 "metadata": {
  "kernelspec": {
   "display_name": "Python 3 (ipykernel)",
   "language": "python",
   "name": "python3"
  },
  "language_info": {
   "codemirror_mode": {
    "name": "ipython",
    "version": 3
   },
   "file_extension": ".py",
   "mimetype": "text/x-python",
   "name": "python",
   "nbconvert_exporter": "python",
   "pygments_lexer": "ipython3",
   "version": "3.9.12"
  }
 },
 "nbformat": 4,
 "nbformat_minor": 5
}
