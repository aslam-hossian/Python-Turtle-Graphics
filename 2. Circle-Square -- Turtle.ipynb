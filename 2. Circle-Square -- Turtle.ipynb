{
 "cells": [
  {
   "cell_type": "code",
   "execution_count": 1,
   "id": "74130d28",
   "metadata": {},
   "outputs": [],
   "source": [
    "import turtle as tr\n",
    "import colorsys as cl"
   ]
  },
  {
   "cell_type": "code",
   "execution_count": 2,
   "id": "268152a7",
   "metadata": {},
   "outputs": [
    {
     "ename": "Terminator",
     "evalue": "",
     "output_type": "error",
     "traceback": [
      "\u001b[1;31m---------------------------------------------------------------------------\u001b[0m",
      "\u001b[1;31mTerminator\u001b[0m                                Traceback (most recent call last)",
      "Input \u001b[1;32mIn [2]\u001b[0m, in \u001b[0;36m<cell line: 5>\u001b[1;34m()\u001b[0m\n\u001b[0;32m     14\u001b[0m     tr\u001b[38;5;241m.\u001b[39mleft(\u001b[38;5;241m60\u001b[39m)\n\u001b[0;32m     15\u001b[0m     tr\u001b[38;5;241m.\u001b[39mforward(\u001b[38;5;241m100\u001b[39m)\n\u001b[1;32m---> 16\u001b[0m     \u001b[43mtr\u001b[49m\u001b[38;5;241;43m.\u001b[39;49m\u001b[43mleft\u001b[49m\u001b[43m(\u001b[49m\u001b[38;5;241;43m122\u001b[39;49m\u001b[43m)\u001b[49m\n\u001b[0;32m     18\u001b[0m tr\u001b[38;5;241m.\u001b[39mdone()\n",
      "File \u001b[1;32m<string>:5\u001b[0m, in \u001b[0;36mleft\u001b[1;34m(angle)\u001b[0m\n",
      "\u001b[1;31mTerminator\u001b[0m: "
     ]
    }
   ],
   "source": [
    "tr.speed(0)\n",
    "tr.bgcolor(\"black\")\n",
    "tr.width(2)\n",
    "\n",
    "for i in range(180):\n",
    "    tr.color(cl.hsv_to_rgb(abs(90-i), abs(90-i)/90,1))\n",
    "    tr.forward(100)\n",
    "    tr.left(60)\n",
    "    tr.forward(100)\n",
    "    tr.right(120)\n",
    "    tr.circle(50)\n",
    "    tr.left(240)\n",
    "    tr.forward(100)\n",
    "    tr.left(60)\n",
    "    tr.forward(100)\n",
    "    tr.left(122)\n",
    "    \n",
    "tr.done()"
   ]
  },
  {
   "cell_type": "code",
   "execution_count": null,
   "id": "54e854b6",
   "metadata": {},
   "outputs": [],
   "source": []
  }
 ],
 "metadata": {
  "kernelspec": {
   "display_name": "Python 3 (ipykernel)",
   "language": "python",
   "name": "python3"
  },
  "language_info": {
   "codemirror_mode": {
    "name": "ipython",
    "version": 3
   },
   "file_extension": ".py",
   "mimetype": "text/x-python",
   "name": "python",
   "nbconvert_exporter": "python",
   "pygments_lexer": "ipython3",
   "version": "3.9.12"
  }
 },
 "nbformat": 4,
 "nbformat_minor": 5
}
