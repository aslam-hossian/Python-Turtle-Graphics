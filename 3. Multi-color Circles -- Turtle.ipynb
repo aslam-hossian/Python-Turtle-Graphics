{
 "cells": [
  {
   "cell_type": "code",
   "execution_count": 1,
   "id": "2c11fbbe",
   "metadata": {},
   "outputs": [],
   "source": [
    "from turtle import *\n",
    "import colorsys"
   ]
  },
  {
   "cell_type": "code",
   "execution_count": 4,
   "id": "9f8c42b9",
   "metadata": {},
   "outputs": [],
   "source": [
    "speed(0)\n",
    "hideturtle()\n",
    "bgcolor(\"black\")\n",
    "\n",
    "tracer(5)\n",
    "width(2)\n",
    "h = 0.001\n",
    "\n",
    "for i in range(90):\n",
    "    color(colorsys.hsv_to_rgb(h,1,1))\n",
    "    \n",
    "    forward(100)\n",
    "    left(60)\n",
    "    forward(100)\n",
    "    right(120)\n",
    "    circle(50)\n",
    "    left(240)\n",
    "    forward(100)\n",
    "    left(60)\n",
    "    forward(100)\n",
    "    h += 0.02\n",
    "    color(colorsys.hsv_to_rgb(h,1,1))\n",
    "    forward(100)\n",
    "    right(60)\n",
    "    forward(100)\n",
    "    left(120)\n",
    "    circle(-50)\n",
    "    right(240)\n",
    "    forward(100)\n",
    "    right(60)\n",
    "    forward(100)\n",
    "    left(2)\n",
    "    h += 0.02\n",
    "    \n",
    "done()"
   ]
  },
  {
   "cell_type": "code",
   "execution_count": null,
   "id": "4d03f0b3",
   "metadata": {},
   "outputs": [],
   "source": []
  }
 ],
 "metadata": {
  "kernelspec": {
   "display_name": "Python 3 (ipykernel)",
   "language": "python",
   "name": "python3"
  },
  "language_info": {
   "codemirror_mode": {
    "name": "ipython",
    "version": 3
   },
   "file_extension": ".py",
   "mimetype": "text/x-python",
   "name": "python",
   "nbconvert_exporter": "python",
   "pygments_lexer": "ipython3",
   "version": "3.9.12"
  }
 },
 "nbformat": 4,
 "nbformat_minor": 5
}
