{
 "cells": [
  {
   "cell_type": "code",
   "execution_count": 1,
   "id": "d6d2be92",
   "metadata": {},
   "outputs": [],
   "source": [
    "from turtle import *\n",
    "import colorsys"
   ]
  },
  {
   "cell_type": "code",
   "execution_count": 5,
   "id": "86c20506",
   "metadata": {},
   "outputs": [],
   "source": [
    "speed(\"fastest\")\n",
    "width(2)\n",
    "bgcolor(\"black\")\n",
    "hue = 0.0\n",
    "for i in range(250):\n",
    "    col = colorsys.hsv_to_rgb(hue,1,1)\n",
    "    color(col)\n",
    "    forward(i*2)\n",
    "    right(121)\n",
    "    hue += 0.005\n",
    "    \n",
    "done()"
   ]
  },
  {
   "cell_type": "code",
   "execution_count": null,
   "id": "12d88680",
   "metadata": {},
   "outputs": [],
   "source": []
  }
 ],
 "metadata": {
  "kernelspec": {
   "display_name": "Python 3 (ipykernel)",
   "language": "python",
   "name": "python3"
  },
  "language_info": {
   "codemirror_mode": {
    "name": "ipython",
    "version": 3
   },
   "file_extension": ".py",
   "mimetype": "text/x-python",
   "name": "python",
   "nbconvert_exporter": "python",
   "pygments_lexer": "ipython3",
   "version": "3.9.12"
  }
 },
 "nbformat": 4,
 "nbformat_minor": 5
}
