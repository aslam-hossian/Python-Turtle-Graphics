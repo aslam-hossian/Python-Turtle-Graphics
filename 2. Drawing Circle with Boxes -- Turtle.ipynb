{
 "cells": [
  {
   "cell_type": "code",
   "execution_count": 1,
   "id": "6906d93a",
   "metadata": {},
   "outputs": [],
   "source": [
    "import turtle  as tur\n",
    "import colorsys as cs"
   ]
  },
  {
   "cell_type": "code",
   "execution_count": 3,
   "id": "2a54973b",
   "metadata": {},
   "outputs": [],
   "source": [
    "tur.bgcolor(\"black\")\n",
    "tur.speed(\"fastest\")\n",
    "tur.width(1)\n",
    "\n",
    "def square(x):\n",
    "    for i in range(4):\n",
    "        tur.forward(x)\n",
    "        tur.left(90)\n",
    "        \n",
    "def shape(x):\n",
    "    tur.forward(x)\n",
    "    tur.left(45)\n",
    "    tur.forward(x)\n",
    "    tur.right(60)\n",
    "    tur.width(3)\n",
    "    square(x)\n",
    "    tur.width(1)\n",
    "    tur.right(165)\n",
    "    tur.forward(x)\n",
    "    tur.left(45)\n",
    "    tur.forward(x)\n",
    "    \n",
    "h = 0.0\n",
    "\n",
    "for i in range(90):\n",
    "    tur.color(cs.hsv_to_rgb(h,1,1))\n",
    "    tur.circle(50,4)\n",
    "    tur.right(90)\n",
    "    shape(70)\n",
    "    tur.right(135)\n",
    "    h += 0.0111\n",
    "    \n",
    "tur.done()"
   ]
  },
  {
   "cell_type": "code",
   "execution_count": null,
   "id": "184ac971",
   "metadata": {},
   "outputs": [],
   "source": []
  }
 ],
 "metadata": {
  "kernelspec": {
   "display_name": "Python 3 (ipykernel)",
   "language": "python",
   "name": "python3"
  },
  "language_info": {
   "codemirror_mode": {
    "name": "ipython",
    "version": 3
   },
   "file_extension": ".py",
   "mimetype": "text/x-python",
   "name": "python",
   "nbconvert_exporter": "python",
   "pygments_lexer": "ipython3",
   "version": "3.9.12"
  }
 },
 "nbformat": 4,
 "nbformat_minor": 5
}
