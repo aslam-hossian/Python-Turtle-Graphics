{
 "cells": [
  {
   "cell_type": "code",
   "execution_count": 1,
   "id": "86c8066a",
   "metadata": {},
   "outputs": [],
   "source": [
    "import turtle as tur\n",
    "import colorsys as cs"
   ]
  },
  {
   "cell_type": "code",
   "execution_count": null,
   "id": "739b2cae",
   "metadata": {},
   "outputs": [],
   "source": [
    "tur.speed(0)\n",
    "tur.tracer(7)\n",
    "tur.width(2)\n",
    "tur.bgcolor(\"black\")\n",
    "tur.goto(0,-80)\n",
    "\n",
    "def square(x):\n",
    "    for i in range(4):\n",
    "        tur.forward(x)\n",
    "        tur.left(90)\n",
    "        \n",
    "h = 0.0\n",
    "for i in range(360):\n",
    "    tur.circle(80,1)\n",
    "    tur.right(90)\n",
    "    tur.color(cs.hsv_to_rgb(h,1,1))\n",
    "    square(150)\n",
    "    tur.left(90)\n",
    "    h += 0.003\n",
    "    \n",
    "tur.hideturtle()\n",
    "tur.done()"
   ]
  },
  {
   "cell_type": "code",
   "execution_count": null,
   "id": "47646d7d",
   "metadata": {},
   "outputs": [],
   "source": []
  },
  {
   "cell_type": "code",
   "execution_count": null,
   "id": "e46b13fd",
   "metadata": {},
   "outputs": [],
   "source": []
  }
 ],
 "metadata": {
  "kernelspec": {
   "display_name": "Python 3 (ipykernel)",
   "language": "python",
   "name": "python3"
  },
  "language_info": {
   "codemirror_mode": {
    "name": "ipython",
    "version": 3
   },
   "file_extension": ".py",
   "mimetype": "text/x-python",
   "name": "python",
   "nbconvert_exporter": "python",
   "pygments_lexer": "ipython3",
   "version": "3.9.12"
  }
 },
 "nbformat": 4,
 "nbformat_minor": 5
}
