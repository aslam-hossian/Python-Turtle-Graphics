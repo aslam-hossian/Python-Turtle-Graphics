{
 "cells": [
  {
   "cell_type": "code",
   "execution_count": 1,
   "id": "09a17565",
   "metadata": {},
   "outputs": [],
   "source": [
    "from turtle import *"
   ]
  },
  {
   "cell_type": "code",
   "execution_count": 4,
   "id": "253a2e89",
   "metadata": {},
   "outputs": [],
   "source": [
    "bgcolor(\"black\")\n",
    "speed(5)\n",
    "hideturtle()\n",
    "width(4)\n",
    "penup()\n",
    "goto(160,-100)\n",
    "pendown()\n",
    "begin_fill()\n",
    "color(\"#FF0000\")\n",
    "fillcolor(\"#FF0000\")\n",
    "left(90)\n",
    "\n",
    "for i in range(2):\n",
    "    forward(100)\n",
    "    circle(50,90)\n",
    "    forward(200)\n",
    "    circle(50,90)\n",
    "    \n",
    "end_fill()\n",
    "goto(-20,0)\n",
    "begin_fill()\n",
    "fillcolor((\"#fff\"))\n",
    "color(\"#fff\")\n",
    "left(180)\n",
    "forward(100)\n",
    "left(120)\n",
    "forward(100)\n",
    "left(120)\n",
    "forward(100)\n",
    "end_fill()\n",
    "\n",
    "done()"
   ]
  },
  {
   "cell_type": "code",
   "execution_count": null,
   "id": "06af6a8e",
   "metadata": {},
   "outputs": [],
   "source": []
  }
 ],
 "metadata": {
  "kernelspec": {
   "display_name": "Python 3 (ipykernel)",
   "language": "python",
   "name": "python3"
  },
  "language_info": {
   "codemirror_mode": {
    "name": "ipython",
    "version": 3
   },
   "file_extension": ".py",
   "mimetype": "text/x-python",
   "name": "python",
   "nbconvert_exporter": "python",
   "pygments_lexer": "ipython3",
   "version": "3.9.12"
  }
 },
 "nbformat": 4,
 "nbformat_minor": 5
}
