{
 "cells": [
  {
   "cell_type": "code",
   "execution_count": 1,
   "id": "2986e74c",
   "metadata": {},
   "outputs": [],
   "source": [
    "import turtle as tur\n",
    "import colorsys as cs"
   ]
  },
  {
   "cell_type": "code",
   "execution_count": 2,
   "id": "1a47dbac",
   "metadata": {},
   "outputs": [],
   "source": [
    "tur.bgcolor(\"darkslategrey\")\n",
    "tur.tracer(5)\n",
    "tur.width(1)\n",
    "\n",
    "def SquareCircle(x):\n",
    "    for i in range(3):\n",
    "        tur.forward(x)\n",
    "        tur.left(90)\n",
    "    tur.forward(x)\n",
    "    \n",
    "n = 30\n",
    "for i in range(n):\n",
    "    tur.color(cs.hsv_to_rgb(1-i/n,1-i/n,1))\n",
    "    for j in range(6):\n",
    "        SquareCircle(50+(i*3))\n",
    "        tur.circle(50+(i*3))\n",
    "        \n",
    "tur.hideturtle()\n",
    "tur.done()"
   ]
  },
  {
   "cell_type": "code",
   "execution_count": null,
   "id": "6dd034db",
   "metadata": {},
   "outputs": [],
   "source": []
  }
 ],
 "metadata": {
  "kernelspec": {
   "display_name": "Python 3 (ipykernel)",
   "language": "python",
   "name": "python3"
  },
  "language_info": {
   "codemirror_mode": {
    "name": "ipython",
    "version": 3
   },
   "file_extension": ".py",
   "mimetype": "text/x-python",
   "name": "python",
   "nbconvert_exporter": "python",
   "pygments_lexer": "ipython3",
   "version": "3.9.12"
  }
 },
 "nbformat": 4,
 "nbformat_minor": 5
}
