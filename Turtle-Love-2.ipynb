{
 "cells": [
  {
   "cell_type": "code",
   "execution_count": 1,
   "id": "867dea07",
   "metadata": {},
   "outputs": [
    {
     "name": "stdout",
     "output_type": "stream",
     "text": [
      "Take my LOVE\n"
     ]
    }
   ],
   "source": [
    "from turtle import *\n",
    "color(\"red\")\n",
    "begin_fill()\n",
    "left(50)\n",
    "forward(100)\n",
    "circle(40, 180)\n",
    "left(260)\n",
    "circle(40 , 180)\n",
    "forward(100)\n",
    "end_fill()\n",
    "done()\n",
    "print(\"Take my LOVE\")"
   ]
  },
  {
   "cell_type": "code",
   "execution_count": null,
   "id": "cc911721",
   "metadata": {},
   "outputs": [],
   "source": []
  },
  {
   "cell_type": "code",
   "execution_count": null,
   "id": "3a9aed99",
   "metadata": {},
   "outputs": [],
   "source": []
  }
 ],
 "metadata": {
  "kernelspec": {
   "display_name": "Python 3 (ipykernel)",
   "language": "python",
   "name": "python3"
  },
  "language_info": {
   "codemirror_mode": {
    "name": "ipython",
    "version": 3
   },
   "file_extension": ".py",
   "mimetype": "text/x-python",
   "name": "python",
   "nbconvert_exporter": "python",
   "pygments_lexer": "ipython3",
   "version": "3.9.12"
  }
 },
 "nbformat": 4,
 "nbformat_minor": 5
}
